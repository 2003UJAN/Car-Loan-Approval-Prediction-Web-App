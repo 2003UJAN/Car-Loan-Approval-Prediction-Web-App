{
  "nbformat": 4,
  "nbformat_minor": 0,
  "metadata": {
    "colab": {
      "provenance": []
    },
    "kernelspec": {
      "name": "python3",
      "display_name": "Python 3"
    },
    "language_info": {
      "name": "python"
    }
  },
  "cells": [
    {
      "cell_type": "code",
      "source": [
        "# train_model.ipynb (simplified as .py for GitHub)\n",
        "\n",
        "import pandas as pd\n",
        "import numpy as np\n",
        "from sklearn.model_selection import train_test_split\n",
        "from sklearn.ensemble import RandomForestClassifier\n",
        "from sklearn.preprocessing import LabelEncoder\n",
        "import joblib\n",
        "\n",
        "# Load data\n",
        "df = pd.read_csv(\"/content/synthetic_car_loan_data.csv\")\n",
        "\n",
        "# Encode categorical columns\n",
        "cat_cols = ['Gender', 'Married', 'Dependents', 'Education', 'Self_Employed',\n",
        "            'Property_Area', 'Car_Model']\n",
        "for col in cat_cols:\n",
        "    le = LabelEncoder()\n",
        "    df[col] = le.fit_transform(df[col])\n",
        "\n",
        "# Split data\n",
        "X = df.drop('Loan_Status', axis=1)\n",
        "y = df['Loan_Status'].map({'Y': 1, 'N': 0})\n",
        "\n",
        "X_train, X_test, y_train, y_test = train_test_split(X, y, test_size=0.2, random_state=42)\n",
        "\n",
        "# Train model\n",
        "clf = RandomForestClassifier(n_estimators=100, random_state=42)\n",
        "clf.fit(X_train, y_train)\n",
        "\n",
        "# Save model\n",
        "joblib.dump(clf, \"loan_approval_model.pkl\")\n"
      ],
      "metadata": {
        "colab": {
          "base_uri": "https://localhost:8080/"
        },
        "id": "x_6o2N8xNDOG",
        "outputId": "b6722f03-b3f5-45b9-a41e-185b7d6931e9"
      },
      "execution_count": 2,
      "outputs": [
        {
          "output_type": "execute_result",
          "data": {
            "text/plain": [
              "['loan_approval_model.pkl']"
            ]
          },
          "metadata": {},
          "execution_count": 2
        }
      ]
    }
  ]
}